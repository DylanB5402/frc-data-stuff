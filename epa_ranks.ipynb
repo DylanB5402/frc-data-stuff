{
 "cells": [
  {
   "cell_type": "code",
   "execution_count": 4,
   "metadata": {},
   "outputs": [
    {
     "name": "stderr",
     "output_type": "stream",
     "text": [
      "/tmp/ipykernel_2409/876984609.py:7: DtypeWarning: Columns (9,10) have mixed types. Specify dtype option on import or set low_memory=False.\n",
      "  df = pd.read_csv('team_years.csv')\n"
     ]
    }
   ],
   "source": [
    "import requests_cache\n",
    "import json\n",
    "import auth_key\n",
    "import pandas as pd\n",
    "\n",
    "\n",
    "df = pd.read_csv('team_years.csv')\n",
    "\n",
    "session = requests_cache.CachedSession(\"tba_data\")\n",
    "\n",
    "def get_data(data : str):\n",
    "    header = { 'X-TBA-Auth-Key' : auth_key.key}\n",
    "    tba_url = \"https://www.thebluealliance.com/api/v3\"\n",
    "    response = session.get(tba_url + data, headers=header)\n",
    "    tba_data = json.loads(response.content)\n",
    "    return tba_data"
   ]
  },
  {
   "cell_type": "code",
   "execution_count": 40,
   "metadata": {},
   "outputs": [
    {
     "data": {
      "text/plain": [
       "61.89"
      ]
     },
     "execution_count": 40,
     "metadata": {},
     "output_type": "execute_result"
    }
   ],
   "source": [
    "data2023 = df[df['year'] == 2023][['team', 'epa_end']]\n",
    "data2023['team_key'] = \"frc\" + data2023['team'].astype(\"str\")\n",
    "data2023\n",
    "data2023 [data2023['team'] == 118]['epa_end'].array[0]"
   ]
  },
  {
   "cell_type": "code",
   "execution_count": 14,
   "metadata": {},
   "outputs": [
    {
     "name": "stdout",
     "output_type": "stream",
     "text": [
      "[81.63, 61.89, 51.41, 77.41, 71.11, 56.81, 52.48, 66.31, 55.03, 51.24]\n",
      "[1, 2, 3, 4, 5, 6, 7, 8, 9, 10]\n",
      "[75.13, 61.95, 64.75, 58.75, 50.29, 53.38, 58.44, 49.49, 48.62, 53.48]\n",
      "[1, 2, 3, 4, 5, 6, 7, 8, 9, 10]\n",
      "[54.42, 64.88, 60.55, 48.45, 59.54, 58.41, 55.85, 58.57, 52.27, 52.15]\n",
      "[1, 2, 3, 4, 5, 6, 7, 8, 9, 10]\n",
      "[68.02, 59.65, 56.27, 50.67, 65.14, 54.91, 50.97, 45.85, 43.19, 61.12]\n",
      "[1, 2, 3, 4, 5, 6, 7, 8, 9, 10]\n",
      "[86.7, 58.29, 62.75, 64.93, 56.8, 47.18, 49.12, 53.85, 60.64, 52.56]\n",
      "[1, 2, 3, 4, 5, 6, 7, 8, 9, 10]\n",
      "[64.25, 54.89, 56.5, 61.44, 60.18, 52.0, 58.03, 58.43, 50.38, 53.07]\n",
      "[1, 2, 3, 4, 5, 6, 7, 8, 9, 10]\n",
      "[62.85, 56.53, 57.64, 56.27, 47.58, 47.17, 46.65, 49.82, 67.95, 50.68]\n",
      "[1, 2, 3, 4, 5, 6, 7, 8, 9, 10]\n",
      "[63.32, 49.87, 49.35, 55.36, 50.07, 49.52, 54.92, 61.88, 55.5, 39.31]\n",
      "[1, 2, 3, 4, 5, 6, 7, 8, 9, 10]\n",
      "average r-squared: -0.5072754342961845\n"
     ]
    }
   ],
   "source": [
    "import scipy.stats\n",
    "import numpy\n",
    "\n",
    "\n",
    "def get_champs_divisions(year : int):\n",
    "    return [ev['key'] for ev in get_data(f\"/events/{year}/simple\") if ev['event_type'] == 3]\n",
    "\n",
    "def analyze_champs_divison(div_key : str, year, window = 10):\n",
    "    ranking_data = get_data(f\"/event/{div_key}/rankings\")['rankings']\n",
    "    teams = [{'rank': team['rank'], 'team_key': team['team_key']} for team in ranking_data]\n",
    "    # epa_data = df[df['year'] == year][['team', 'name', 'epa_end']]\n",
    "    epa_data = df[df['year'] == year][['team', 'epa_end']]\n",
    "    epa_data['team_key'] = \"frc\" + epa_data['team'].astype(\"str\")\n",
    "    teams = [{'rank': team['rank'], 'team': team['team_key'], 'epa' : epa_data [epa_data['team_key'] == team['team_key']]['epa_end'].array[0]} for team in teams]\n",
    "    epas = [team['epa'] for team in teams][:window]\n",
    "    ranks = list(([team['rank'] for team in teams]))[:window]\n",
    "    print(epas)\n",
    "    print(ranks)\n",
    "    r = scipy.stats.linregress(epas, ranks).rvalue\n",
    "    return r\n",
    "\n",
    "def analyze_champs(year):\n",
    "    divs = get_champs_divisions(year)\n",
    "    # print(f\"r-squared for {year} champs divisions\")\n",
    "    r_squareds = [analyze_champs_divison(div, year) for div in divs]\n",
    "    # print(r_squareds)\n",
    "    print(f'average r-squared: {numpy.mean(r_squareds)}')\n",
    "\n",
    "# arc = get_champs_divisions(2023)[0]['key']\n",
    "# analyze_champs_divison(arc, 2023)\n",
    "    \n",
    "# for y in range(2016, 2020):\n",
    "#     analyze_champs(y)\n",
    "\n",
    "# analyze_champs(2023)\n",
    "# analyze_champs(2022)\n",
    "\n",
    "analyze_champs(2023)"
   ]
  },
  {
   "cell_type": "code",
   "execution_count": 7,
   "metadata": {},
   "outputs": [
    {
     "data": {
      "text/plain": [
       "[0, 1, 2, 3, 4, 5, 6, 7, 8, 9]"
      ]
     },
     "execution_count": 7,
     "metadata": {},
     "output_type": "execute_result"
    }
   ],
   "source": [
    "list(range(100))[:10]"
   ]
  }
 ],
 "metadata": {
  "kernelspec": {
   "display_name": "venv",
   "language": "python",
   "name": "python3"
  },
  "language_info": {
   "codemirror_mode": {
    "name": "ipython",
    "version": 3
   },
   "file_extension": ".py",
   "mimetype": "text/x-python",
   "name": "python",
   "nbconvert_exporter": "python",
   "pygments_lexer": "ipython3",
   "version": "3.8.10"
  }
 },
 "nbformat": 4,
 "nbformat_minor": 2
}
